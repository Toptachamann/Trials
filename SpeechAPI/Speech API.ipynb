{
 "cells": [
  {
   "cell_type": "markdown",
   "metadata": {},
   "source": [
    "# Text to Speech and Speech to Text APIs\n",
    "### Preconditions:\n",
    "* Installed google cloud speech, texttospeech and storage client libraries\n",
    "\n",
    "``` \n",
    "pip3 install google-cloud-speech google-cloud-texttospeech google-cloud-storage --user\n",
    "```\n",
    "\n",
    "* Configured Google cloud account\n",
    "* Created project\n",
    "* Speech and storage APIs should be [enabled for the project](https://console.cloud.google.com/apis/library) using GCloud Console\n",
    "* Created [service account](https://console.cloud.google.com/apis/credentials) to enable cloud manipulation via client libraries\n",
    "* Downloaded service account authentification JSON file. The path to this file should be exported as __GOOGLE_APPLICATION_CREDENTIALS__ environment variable."
   ]
  },
  {
   "cell_type": "markdown",
   "metadata": {},
   "source": [
    "# Google Text to Speech API"
   ]
  },
  {
   "cell_type": "code",
   "execution_count": 1,
   "metadata": {},
   "outputs": [],
   "source": [
    "# google cloud text to speech client library\n",
    "from google.cloud import texttospeech"
   ]
  },
  {
   "cell_type": "code",
   "execution_count": 2,
   "metadata": {},
   "outputs": [],
   "source": [
    "def text_to_speech(input_path: str, \n",
    "                   voice:texttospeech.types.VoiceSelectionParams= None,\n",
    "                   output_path:str = \"output.mp3\"):\n",
    "    with open(input_path, \"r\") as input_file:\n",
    "        input_text = input_file.read()\n",
    "    \n",
    "    input = texttospeech.types.SynthesisInput(ssml=input_text)\n",
    "\n",
    "    # voice = texttospeech.types.VoiceSelectionParams(\n",
    "    #     language_code='uk-UA',\n",
    "    #     name='uk-UA-Wavenet-A',\n",
    "    #     ssml_gender=texttospeech.enums.SsmlVoiceGender.FEMALE)\n",
    "    if not voice:\n",
    "        voice = texttospeech.types.VoiceSelectionParams(\n",
    "            language_code='en-US',\n",
    "            ssml_gender=texttospeech.enums.SsmlVoiceGender.MALE)\n",
    "\n",
    "    audio_config = texttospeech.types.AudioConfig(audio_encoding=texttospeech.enums.AudioEncoding.MP3)\n",
    "\n",
    "    client = texttospeech.TextToSpeechClient()\n",
    "\n",
    "    response = client.synthesize_speech(input, voice, audio_config)\n",
    "\n",
    "    with open(output_path, 'wb') as out:\n",
    "        # Write the response to the output file.\n",
    "        out.write(response.audio_content)\n",
    "        print('Audio content written to file \"{}\"'.format(output_path))"
   ]
  },
  {
   "cell_type": "markdown",
   "metadata": {},
   "source": [
    "### Speech synthesis markup language\n",
    "Speech to text API can read text of any kind. However, the qualiry of the result can be improved by adding a special markup language to the input. Example:\n",
    "```\n",
    "<speak>\n",
    "  This is an introduction to the Google Cloud text to speech and speech to text <say-as interpret-as=\"characters\">APIs</say-as> <break time=\"1s\"/>.\n",
    "\n",
    "  In order to run this Jupyter Notebook, you have to complete the following prerequisites:<break time=\"500ms\"/>\n",
    "\n",
    "  <say-as interpret-as=\"ordinal\">1</say-as>. You have to install Google Cloud Python Client libraries.<break time=\"500ms\"/>\n",
    "  <say-as interpret-as=\"ordinal\">2</say-as>. You have to create both a Google Cloud account with a configured billing and a new project.<break time=\"500ms\"/>\n",
    "  <say-as interpret-as=\"ordinal\">3</say-as>. You have to enable corresponding <say-as interpret-as=\"characters\">APIs</say-as> for your project.<break time=\"500ms\"/>\n",
    "\n",
    "  Let's make a moderate emphasis. <emphasis level=\"moderate\">You have to complete all of the prerequisites in order to run the code in this presentation</emphasis>. Once again, we will strongly emphasise: <emphasis level=\"strong\"> all of the prerequisites</emphasis>!\n",
    "</speak>\n",
    "```"
   ]
  },
  {
   "cell_type": "code",
   "execution_count": 6,
   "metadata": {},
   "outputs": [
    {
     "name": "stdout",
     "output_type": "stream",
     "text": [
      "Audio content written to file \"output.mp3\"\n"
     ]
    }
   ],
   "source": [
    "text_to_speech(\"introduction.txt\")\n",
    "!xdg-open output.mp3"
   ]
  },
  {
   "cell_type": "markdown",
   "metadata": {},
   "source": [
    "### Other voices\n",
    "Google Cloud Speech to Text API supports a lot of voices in different languages. The cool thing is that you can read the text in English using, for example, Russian or Ukrainian language. "
   ]
  },
  {
   "cell_type": "code",
   "execution_count": 3,
   "metadata": {},
   "outputs": [
    {
     "name": "stdout",
     "output_type": "stream",
     "text": [
      "Audio content written to file \"rus_small_part.mp3\"\n"
     ]
    }
   ],
   "source": [
    "text_to_speech(\"small_part.txt\",\n",
    "               voice = texttospeech.types.VoiceSelectionParams(\n",
    "                                        language_code=\"ru-RU\",\n",
    "                                        ssml_gender=texttospeech.enums.SsmlVoiceGender.MALE),\n",
    "               output_path=\"rus_small_part.mp3\")\n",
    "!xdg-open rus_small_part.mp3"
   ]
  },
  {
   "cell_type": "code",
   "execution_count": 11,
   "metadata": {},
   "outputs": [
    {
     "name": "stdout",
     "output_type": "stream",
     "text": [
      "Audio content written to file \"output.mp3\"\n"
     ]
    }
   ],
   "source": [
    "text_to_speech(\"small_part.txt\",\n",
    "               voice = texttospeech.types.VoiceSelectionParams(\n",
    "                                        language_code=\"uk-UK\",\n",
    "                                        ssml_gender=texttospeech.enums.SsmlVoiceGender.FEMALE),\n",
    "              output_path=\"ukr_small_part.mp3\")\n",
    "!xdg-open ukr_small_part.mp3"
   ]
  },
  {
   "cell_type": "markdown",
   "metadata": {},
   "source": [
    "# Google Speech to Text API\n",
    "\n",
    "Currently, this API supports speech recognition from the files uploaded to the Googel Cloud Storage. To dynamically upload the generated audio files to the Cloud Storage, we will use Storage client library."
   ]
  },
  {
   "cell_type": "code",
   "execution_count": 22,
   "metadata": {},
   "outputs": [],
   "source": [
    "import io\n",
    "\n",
    "from google.cloud import storage\n",
    "from google.cloud import speech_v1p1beta1 as speech"
   ]
  },
  {
   "cell_type": "markdown",
   "metadata": {},
   "source": [
    "Uploading the input file to Google Cloud Storage"
   ]
  },
  {
   "cell_type": "code",
   "execution_count": 4,
   "metadata": {},
   "outputs": [],
   "source": [
    "def upload_to_storage(file_path:str):\n",
    "    storage_client = storage.Client()\n",
    "    bucket_name = \"tym-chud-general-bucket\"\n",
    "\n",
    "    bucket = storage_client.bucket(bucket_name)\n",
    "\n",
    "    file_blob = bucket.blob(file_path)\n",
    "    file_blob.upload_from_filename(file_path)"
   ]
  },
  {
   "cell_type": "code",
   "execution_count": 8,
   "metadata": {},
   "outputs": [
    {
     "name": "stdout",
     "output_type": "stream",
     "text": [
      "Audio content written to file \"output.mp3\"\n"
     ]
    }
   ],
   "source": [
    "text_to_speech(\"small_part.txt\")\n",
    "upload_to_storage(\"output.mp3\")"
   ]
  },
  {
   "cell_type": "code",
   "execution_count": 18,
   "metadata": {},
   "outputs": [],
   "source": [
    "def print_speech_to_text(input_file_name:str, language:str = 'en-US'):\n",
    "    client = speech.SpeechClient()\n",
    "\n",
    "    sample_rate = 24000\n",
    "\n",
    "    config = {\n",
    "        \"language_code\": language,\n",
    "        \"sample_rate_hertz\": sample_rate,\n",
    "        \"encoding\": speech.enums.RecognitionConfig.AudioEncoding.MP3,\n",
    "    }\n",
    "\n",
    "    audio = {\n",
    "        \"uri\": \"gs://tym-chud-general-bucket/{}\".format(input_file_name)\n",
    "    }\n",
    "\n",
    "    response = client.recognize(config, audio)\n",
    "    for result in response.results:\n",
    "        print(result)"
   ]
  },
  {
   "cell_type": "code",
   "execution_count": 19,
   "metadata": {},
   "outputs": [
    {
     "name": "stdout",
     "output_type": "stream",
     "text": [
      "alternatives {\n",
      "  transcript: \"this is an introduction to the Google Cloud text to speech to text\"\n",
      "  confidence: 0.9250052571296692\n",
      "}\n",
      "language_code: \"en-us\"\n",
      "\n"
     ]
    }
   ],
   "source": [
    "print_speech_to_text(\"output.mp3\")"
   ]
  },
  {
   "cell_type": "markdown",
   "metadata": {},
   "source": [
    "### Streaming API\n",
    "It is possible to recognize speech from a local file using the streaming API. "
   ]
  },
  {
   "cell_type": "code",
   "execution_count": 29,
   "metadata": {},
   "outputs": [],
   "source": [
    "def print_speech_to_text_streaming(input_file_name:str, language:str = 'en-US'):\n",
    "    client = speech.SpeechClient()\n",
    "\n",
    "    config = speech.types.RecognitionConfig(\n",
    "        encoding=speech.enums.RecognitionConfig.AudioEncoding.MP3,\n",
    "        language_code='en-US',\n",
    "        sample_rate_hertz=24000,\n",
    "    )\n",
    "\n",
    "    with io.open(input_file_name, \"rb\") as stream:\n",
    "        requests = [speech.types.StreamingRecognizeRequest(audio_content=stream.read())]\n",
    "\n",
    "    results = client.streaming_recognize(speech.types.StreamingRecognitionConfig(config=config), requests)\n",
    "    for result in results:\n",
    "        print(\"=\"*20)\n",
    "        print(result)"
   ]
  },
  {
   "cell_type": "code",
   "execution_count": 30,
   "metadata": {},
   "outputs": [
    {
     "name": "stdout",
     "output_type": "stream",
     "text": [
      "====================\n",
      "results {\n",
      "  alternatives {\n",
      "    transcript: \"this is an introduction to the Google Cloud text to speech to text\"\n",
      "    confidence: 0.9419823288917542\n",
      "  }\n",
      "  is_final: true\n",
      "  result_end_time {\n",
      "    seconds: 5\n",
      "    nanos: 340000000\n",
      "  }\n",
      "  language_code: \"en-us\"\n",
      "}\n",
      "\n"
     ]
    }
   ],
   "source": [
    "print_speech_to_text_streaming(\"output.mp3\")"
   ]
  }
 ],
 "metadata": {
  "kernelspec": {
   "display_name": "Python 3",
   "language": "python",
   "name": "python3"
  },
  "language_info": {
   "codemirror_mode": {
    "name": "ipython",
    "version": 3
   },
   "file_extension": ".py",
   "mimetype": "text/x-python",
   "name": "python",
   "nbconvert_exporter": "python",
   "pygments_lexer": "ipython3",
   "version": "3.6.9"
  }
 },
 "nbformat": 4,
 "nbformat_minor": 2
}
